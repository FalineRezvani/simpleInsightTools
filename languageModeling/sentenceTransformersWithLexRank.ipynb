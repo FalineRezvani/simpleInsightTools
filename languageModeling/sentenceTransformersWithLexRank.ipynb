{
  "cells": [
    {
      "cell_type": "markdown",
      "metadata": {
        "id": "view-in-github",
        "colab_type": "text"
      },
      "source": [
        "<a href=\"https://colab.research.google.com/github/FalineRezvani/simpleInsightTools/blob/main/languageModeling/sentenceTransformersWithLexRank.ipynb\" target=\"_parent\"><img src=\"https://colab.research.google.com/assets/colab-badge.svg\" alt=\"Open In Colab\"/></a>"
      ]
    },
    {
      "cell_type": "markdown",
      "source": [
        "## Text Summarization with Sentence Transformers and LexRank\n",
        "\n",
        "2025-04-15\n",
        "\n",
        "Author: Faline Rezvani\n",
        "\n",
        "This notebook will bring in a csv file, tokenize text, extract meaning, and return the most significant sentence."
      ],
      "metadata": {
        "id": "XqGzwk1pFqke"
      }
    },
    {
      "cell_type": "code",
      "execution_count": 152,
      "metadata": {
        "id": "nq-5Y77UZbmR"
      },
      "outputs": [],
      "source": [
        "import tensorflow as tf # Dependency for Sentence Transformer\n",
        "import torch # Dependency for Sentence Transformer\n",
        "from sentence_transformers import SentenceTransformer, util\n",
        "import logging # Dependency for LexRank\n",
        "import scipy # Dependency for LexRank (pip install scipy)\n",
        "from scipy.sparse.csgraph import connected_components\n",
        "from scipy.special import softmax\n",
        "import sklearn # Dependency for LexRank\n",
        "from sumy.summarizers.lex_rank import LexRankSummarizer # Dependency for LexRank (pip install sumy)\n",
        "from sumy.parsers.plaintext import PlaintextParser # Understanding structure and relationships\n",
        "from sumy.nlp.tokenizers import Tokenizer\n",
        "from lexrank import LexRank # Text summarization (pip install LexRank)\n",
        "import nltk # May need nltk.download('punkt_tab')\n",
        "from nltk.corpus import stopwords # Words commonly used in human language, yet not useful to meaning. May need nltk.download('stopwords')\n",
        "from nltk.stem.porter import PorterStemmer # The Porter stemming algorithm to strip suffixes\n",
        "import re, string # Regular expressions for text processing\n",
        "import numpy as np\n",
        "import pandas as pd\n",
        "import csv"
      ]
    },
    {
      "cell_type": "code",
      "source": [
        "#from google.colab import drive\n",
        "#drive.mount('/content/drive')"
      ],
      "metadata": {
        "id": "-8vRQprq-tOv"
      },
      "execution_count": 153,
      "outputs": []
    },
    {
      "cell_type": "code",
      "source": [
        "# Reading csv file from Google Drive\n",
        "df = pd.read_csv(r'/content/drive/MyDrive/YourFilePathHere')"
      ],
      "metadata": {
        "id": "FCdNvfyq_KOq"
      },
      "execution_count": 154,
      "outputs": []
    },
    {
      "cell_type": "code",
      "source": [
        "df.head()"
      ],
      "metadata": {
        "colab": {
          "base_uri": "https://localhost:8080/",
          "height": 206
        },
        "id": "5_87aADo_evY",
        "outputId": "24f739b3-1e44-4f0a-9b85-5ac6d0090e92"
      },
      "execution_count": 155,
      "outputs": [
        {
          "output_type": "execute_result",
          "data": {
            "text/plain": [
              "                                         description\n",
              "0  Reinforcement learning - GeeksforGeeks\\r\\nSep ...\n",
              "1  Machine Learning Tutorial - GeeksforGeeks\\r\\n5...\n",
              "2  A Beginner's Guide to Deep Reinforcement Learn...\n",
              "3  Upper Confidence Bound Algorithm in Reinforcem...\n",
              "4  On-policy vs off-policy methods Reinforcement ..."
            ],
            "text/html": [
              "\n",
              "  <div id=\"df-e3934a10-203c-4c9a-ac10-9cd31ca565a2\" class=\"colab-df-container\">\n",
              "    <div>\n",
              "<style scoped>\n",
              "    .dataframe tbody tr th:only-of-type {\n",
              "        vertical-align: middle;\n",
              "    }\n",
              "\n",
              "    .dataframe tbody tr th {\n",
              "        vertical-align: top;\n",
              "    }\n",
              "\n",
              "    .dataframe thead th {\n",
              "        text-align: right;\n",
              "    }\n",
              "</style>\n",
              "<table border=\"1\" class=\"dataframe\">\n",
              "  <thead>\n",
              "    <tr style=\"text-align: right;\">\n",
              "      <th></th>\n",
              "      <th>description</th>\n",
              "    </tr>\n",
              "  </thead>\n",
              "  <tbody>\n",
              "    <tr>\n",
              "      <th>0</th>\n",
              "      <td>Reinforcement learning - GeeksforGeeks\\r\\nSep ...</td>\n",
              "    </tr>\n",
              "    <tr>\n",
              "      <th>1</th>\n",
              "      <td>Machine Learning Tutorial - GeeksforGeeks\\r\\n5...</td>\n",
              "    </tr>\n",
              "    <tr>\n",
              "      <th>2</th>\n",
              "      <td>A Beginner's Guide to Deep Reinforcement Learn...</td>\n",
              "    </tr>\n",
              "    <tr>\n",
              "      <th>3</th>\n",
              "      <td>Upper Confidence Bound Algorithm in Reinforcem...</td>\n",
              "    </tr>\n",
              "    <tr>\n",
              "      <th>4</th>\n",
              "      <td>On-policy vs off-policy methods Reinforcement ...</td>\n",
              "    </tr>\n",
              "  </tbody>\n",
              "</table>\n",
              "</div>\n",
              "    <div class=\"colab-df-buttons\">\n",
              "\n",
              "  <div class=\"colab-df-container\">\n",
              "    <button class=\"colab-df-convert\" onclick=\"convertToInteractive('df-e3934a10-203c-4c9a-ac10-9cd31ca565a2')\"\n",
              "            title=\"Convert this dataframe to an interactive table.\"\n",
              "            style=\"display:none;\">\n",
              "\n",
              "  <svg xmlns=\"http://www.w3.org/2000/svg\" height=\"24px\" viewBox=\"0 -960 960 960\">\n",
              "    <path d=\"M120-120v-720h720v720H120Zm60-500h600v-160H180v160Zm220 220h160v-160H400v160Zm0 220h160v-160H400v160ZM180-400h160v-160H180v160Zm440 0h160v-160H620v160ZM180-180h160v-160H180v160Zm440 0h160v-160H620v160Z\"/>\n",
              "  </svg>\n",
              "    </button>\n",
              "\n",
              "  <style>\n",
              "    .colab-df-container {\n",
              "      display:flex;\n",
              "      gap: 12px;\n",
              "    }\n",
              "\n",
              "    .colab-df-convert {\n",
              "      background-color: #E8F0FE;\n",
              "      border: none;\n",
              "      border-radius: 50%;\n",
              "      cursor: pointer;\n",
              "      display: none;\n",
              "      fill: #1967D2;\n",
              "      height: 32px;\n",
              "      padding: 0 0 0 0;\n",
              "      width: 32px;\n",
              "    }\n",
              "\n",
              "    .colab-df-convert:hover {\n",
              "      background-color: #E2EBFA;\n",
              "      box-shadow: 0px 1px 2px rgba(60, 64, 67, 0.3), 0px 1px 3px 1px rgba(60, 64, 67, 0.15);\n",
              "      fill: #174EA6;\n",
              "    }\n",
              "\n",
              "    .colab-df-buttons div {\n",
              "      margin-bottom: 4px;\n",
              "    }\n",
              "\n",
              "    [theme=dark] .colab-df-convert {\n",
              "      background-color: #3B4455;\n",
              "      fill: #D2E3FC;\n",
              "    }\n",
              "\n",
              "    [theme=dark] .colab-df-convert:hover {\n",
              "      background-color: #434B5C;\n",
              "      box-shadow: 0px 1px 3px 1px rgba(0, 0, 0, 0.15);\n",
              "      filter: drop-shadow(0px 1px 2px rgba(0, 0, 0, 0.3));\n",
              "      fill: #FFFFFF;\n",
              "    }\n",
              "  </style>\n",
              "\n",
              "    <script>\n",
              "      const buttonEl =\n",
              "        document.querySelector('#df-e3934a10-203c-4c9a-ac10-9cd31ca565a2 button.colab-df-convert');\n",
              "      buttonEl.style.display =\n",
              "        google.colab.kernel.accessAllowed ? 'block' : 'none';\n",
              "\n",
              "      async function convertToInteractive(key) {\n",
              "        const element = document.querySelector('#df-e3934a10-203c-4c9a-ac10-9cd31ca565a2');\n",
              "        const dataTable =\n",
              "          await google.colab.kernel.invokeFunction('convertToInteractive',\n",
              "                                                    [key], {});\n",
              "        if (!dataTable) return;\n",
              "\n",
              "        const docLinkHtml = 'Like what you see? Visit the ' +\n",
              "          '<a target=\"_blank\" href=https://colab.research.google.com/notebooks/data_table.ipynb>data table notebook</a>'\n",
              "          + ' to learn more about interactive tables.';\n",
              "        element.innerHTML = '';\n",
              "        dataTable['output_type'] = 'display_data';\n",
              "        await google.colab.output.renderOutput(dataTable, element);\n",
              "        const docLink = document.createElement('div');\n",
              "        docLink.innerHTML = docLinkHtml;\n",
              "        element.appendChild(docLink);\n",
              "      }\n",
              "    </script>\n",
              "  </div>\n",
              "\n",
              "\n",
              "<div id=\"df-e56fd0fe-22a3-480c-81cd-02b8c31f46a7\">\n",
              "  <button class=\"colab-df-quickchart\" onclick=\"quickchart('df-e56fd0fe-22a3-480c-81cd-02b8c31f46a7')\"\n",
              "            title=\"Suggest charts\"\n",
              "            style=\"display:none;\">\n",
              "\n",
              "<svg xmlns=\"http://www.w3.org/2000/svg\" height=\"24px\"viewBox=\"0 0 24 24\"\n",
              "     width=\"24px\">\n",
              "    <g>\n",
              "        <path d=\"M19 3H5c-1.1 0-2 .9-2 2v14c0 1.1.9 2 2 2h14c1.1 0 2-.9 2-2V5c0-1.1-.9-2-2-2zM9 17H7v-7h2v7zm4 0h-2V7h2v10zm4 0h-2v-4h2v4z\"/>\n",
              "    </g>\n",
              "</svg>\n",
              "  </button>\n",
              "\n",
              "<style>\n",
              "  .colab-df-quickchart {\n",
              "      --bg-color: #E8F0FE;\n",
              "      --fill-color: #1967D2;\n",
              "      --hover-bg-color: #E2EBFA;\n",
              "      --hover-fill-color: #174EA6;\n",
              "      --disabled-fill-color: #AAA;\n",
              "      --disabled-bg-color: #DDD;\n",
              "  }\n",
              "\n",
              "  [theme=dark] .colab-df-quickchart {\n",
              "      --bg-color: #3B4455;\n",
              "      --fill-color: #D2E3FC;\n",
              "      --hover-bg-color: #434B5C;\n",
              "      --hover-fill-color: #FFFFFF;\n",
              "      --disabled-bg-color: #3B4455;\n",
              "      --disabled-fill-color: #666;\n",
              "  }\n",
              "\n",
              "  .colab-df-quickchart {\n",
              "    background-color: var(--bg-color);\n",
              "    border: none;\n",
              "    border-radius: 50%;\n",
              "    cursor: pointer;\n",
              "    display: none;\n",
              "    fill: var(--fill-color);\n",
              "    height: 32px;\n",
              "    padding: 0;\n",
              "    width: 32px;\n",
              "  }\n",
              "\n",
              "  .colab-df-quickchart:hover {\n",
              "    background-color: var(--hover-bg-color);\n",
              "    box-shadow: 0 1px 2px rgba(60, 64, 67, 0.3), 0 1px 3px 1px rgba(60, 64, 67, 0.15);\n",
              "    fill: var(--button-hover-fill-color);\n",
              "  }\n",
              "\n",
              "  .colab-df-quickchart-complete:disabled,\n",
              "  .colab-df-quickchart-complete:disabled:hover {\n",
              "    background-color: var(--disabled-bg-color);\n",
              "    fill: var(--disabled-fill-color);\n",
              "    box-shadow: none;\n",
              "  }\n",
              "\n",
              "  .colab-df-spinner {\n",
              "    border: 2px solid var(--fill-color);\n",
              "    border-color: transparent;\n",
              "    border-bottom-color: var(--fill-color);\n",
              "    animation:\n",
              "      spin 1s steps(1) infinite;\n",
              "  }\n",
              "\n",
              "  @keyframes spin {\n",
              "    0% {\n",
              "      border-color: transparent;\n",
              "      border-bottom-color: var(--fill-color);\n",
              "      border-left-color: var(--fill-color);\n",
              "    }\n",
              "    20% {\n",
              "      border-color: transparent;\n",
              "      border-left-color: var(--fill-color);\n",
              "      border-top-color: var(--fill-color);\n",
              "    }\n",
              "    30% {\n",
              "      border-color: transparent;\n",
              "      border-left-color: var(--fill-color);\n",
              "      border-top-color: var(--fill-color);\n",
              "      border-right-color: var(--fill-color);\n",
              "    }\n",
              "    40% {\n",
              "      border-color: transparent;\n",
              "      border-right-color: var(--fill-color);\n",
              "      border-top-color: var(--fill-color);\n",
              "    }\n",
              "    60% {\n",
              "      border-color: transparent;\n",
              "      border-right-color: var(--fill-color);\n",
              "    }\n",
              "    80% {\n",
              "      border-color: transparent;\n",
              "      border-right-color: var(--fill-color);\n",
              "      border-bottom-color: var(--fill-color);\n",
              "    }\n",
              "    90% {\n",
              "      border-color: transparent;\n",
              "      border-bottom-color: var(--fill-color);\n",
              "    }\n",
              "  }\n",
              "</style>\n",
              "\n",
              "  <script>\n",
              "    async function quickchart(key) {\n",
              "      const quickchartButtonEl =\n",
              "        document.querySelector('#' + key + ' button');\n",
              "      quickchartButtonEl.disabled = true;  // To prevent multiple clicks.\n",
              "      quickchartButtonEl.classList.add('colab-df-spinner');\n",
              "      try {\n",
              "        const charts = await google.colab.kernel.invokeFunction(\n",
              "            'suggestCharts', [key], {});\n",
              "      } catch (error) {\n",
              "        console.error('Error during call to suggestCharts:', error);\n",
              "      }\n",
              "      quickchartButtonEl.classList.remove('colab-df-spinner');\n",
              "      quickchartButtonEl.classList.add('colab-df-quickchart-complete');\n",
              "    }\n",
              "    (() => {\n",
              "      let quickchartButtonEl =\n",
              "        document.querySelector('#df-e56fd0fe-22a3-480c-81cd-02b8c31f46a7 button');\n",
              "      quickchartButtonEl.style.display =\n",
              "        google.colab.kernel.accessAllowed ? 'block' : 'none';\n",
              "    })();\n",
              "  </script>\n",
              "</div>\n",
              "\n",
              "    </div>\n",
              "  </div>\n"
            ],
            "application/vnd.google.colaboratory.intrinsic+json": {
              "type": "dataframe",
              "variable_name": "df",
              "summary": "{\n  \"name\": \"df\",\n  \"rows\": 10,\n  \"fields\": [\n    {\n      \"column\": \"description\",\n      \"properties\": {\n        \"dtype\": \"string\",\n        \"num_unique_values\": 10,\n        \"samples\": [\n          \"Introduction to Machine Learning: What Is and Its Applications ...\\r\\n7 days ago ... Machine learning enables computers to learn from data, identify patterns, and make predictions, driving efficiency and personalization ...\",\n          \"Machine Learning Tutorial - GeeksforGeeks\\r\\n5 days ago ... Machine learning, a subset of Artificial Intelligence, enables computers to learn from data and make predictions through various techniques ...\",\n          \"Multi-armed Bandit Problem in Reinforcement Learning ...\\r\\nJun 18, 2024 ... In the Multi-Armed Bandit problem, an agent is presented with multiple options (arms), each providing a reward drawn from an unknown probability ...\"\n        ],\n        \"semantic_type\": \"\",\n        \"description\": \"\"\n      }\n    }\n  ]\n}"
            }
          },
          "metadata": {},
          "execution_count": 155
        }
      ]
    },
    {
      "cell_type": "markdown",
      "source": [
        "Regular Expressions"
      ],
      "metadata": {
        "id": "FHbZFNZDENGp"
      }
    },
    {
      "cell_type": "code",
      "source": [
        "# Creating list of strings from dataframe\n",
        "corpus = []\n",
        "\n",
        "for i in range(0, 9):\n",
        "  description = re.compile('<*?>').sub(repl=' ', string=df.iloc[:,0][i]) # Locating and substituting HTML markup with a space\n",
        "  description = re.compile('[0-9\\r\\n,-]').sub(' ', description)\n",
        "  description = description.lower() # Converting to lowercase\n",
        "  corpus.append(description) # Placing in empty string"
      ],
      "metadata": {
        "id": "2EphYemvAPSE"
      },
      "execution_count": 156,
      "outputs": []
    },
    {
      "cell_type": "code",
      "source": [
        "# Creating single string out of list of strings\n",
        "corpus = ''.join(corpus)"
      ],
      "metadata": {
        "id": "17TkZqSCDP17"
      },
      "execution_count": 157,
      "outputs": []
    },
    {
      "cell_type": "code",
      "source": [
        "#print(corpus)"
      ],
      "metadata": {
        "id": "Gz1NrYcVw7Xl"
      },
      "execution_count": 158,
      "outputs": []
    },
    {
      "cell_type": "markdown",
      "source": [
        "LexRank Summarizer"
      ],
      "metadata": {
        "id": "NVYtzj1ZSpmn"
      }
    },
    {
      "cell_type": "code",
      "source": [
        "# Instantiating summarizer\n",
        "summarizer_lex = LexRankSummarizer()"
      ],
      "metadata": {
        "id": "kdAKDHJwTRmW"
      },
      "execution_count": 159,
      "outputs": []
    },
    {
      "cell_type": "code",
      "source": [
        "# Extracting grammatical structure\n",
        "parser = PlaintextParser.from_string(corpus, Tokenizer(\"english\"))"
      ],
      "metadata": {
        "id": "0t1f68YdVzf1"
      },
      "execution_count": 160,
      "outputs": []
    },
    {
      "cell_type": "code",
      "source": [
        "# Summarize using sumy LexRank, getting top two sentences\n",
        "summary = summarizer_lex(parser.document, 2)"
      ],
      "metadata": {
        "id": "BcmbnzTfSzXz"
      },
      "execution_count": 161,
      "outputs": []
    },
    {
      "cell_type": "code",
      "source": [
        "# Returns top two sentences\n",
        "for sentence in summary:\n",
        "  print(sentence)"
      ],
      "metadata": {
        "colab": {
          "base_uri": "https://localhost:8080/"
        },
        "id": "1VtNFAeWX2X6",
        "outputId": "f6dceea7-8507-4ff0-ee64-7a003830bdc3"
      },
      "execution_count": 162,
      "outputs": [
        {
          "output_type": "stream",
          "name": "stdout",
          "text": [
            "reinforcement learning   geeksforgeeks  sep         ... reinforcement learning (rl) is a branch of machine learning focused on making decisions to maximize cumulative rewards in a given situation.machine learning tutorial   geeksforgeeks    days ago ... machine learning  a subset of artificial intelligence  enables computers to learn from data and make predictions through various techniques ...a beginner's guide to deep reinforcement learning   geeksforgeeks  sep          ... a computer science portal for geeks.\n",
            "it contains well written  well thought and well explained computer science and programming articles  ...upper confidence bound algorithm in reinforcement learning ...  feb          ... in reinforcement learning  we use multi armed bandit problem to formalize the notion of decision making under uncertainty using k armed bandits.on policy vs off policy methods reinforcement learning ...  dec          ... this tutorial aims to demystify the concepts  providing a solid foundation for understanding the nuances between on policy and off policy strategies.multi armed bandit problem in reinforcement learning ...  jun          ... in the multi armed bandit problem  an agent is presented with multiple options (arms)  each providing a reward drawn from an unknown probability ...epsilon greedy algorithm in reinforcement learning   geeksforgeeks  jan          ... epsilon greedy is a simple method to balance exploration and exploitation by choosing between exploration and exploitation randomly.\n"
          ]
        }
      ]
    },
    {
      "cell_type": "markdown",
      "source": [
        "NLTK"
      ],
      "metadata": {
        "id": "-lO28AsN4Foo"
      }
    },
    {
      "cell_type": "code",
      "source": [
        "# Removing 'not' from stop words, returns true if 'not' in stop word list\n",
        "stop_words = set(stopwords.words('english'))\n",
        "stop_words.remove('not')\n",
        "'not' in stop_words"
      ],
      "metadata": {
        "colab": {
          "base_uri": "https://localhost:8080/"
        },
        "id": "-w_R7uq9ANBW",
        "outputId": "dc0dfa1a-7123-462a-afbf-78e58762e482"
      },
      "execution_count": 163,
      "outputs": [
        {
          "output_type": "execute_result",
          "data": {
            "text/plain": [
              "False"
            ]
          },
          "metadata": {},
          "execution_count": 163
        }
      ]
    },
    {
      "cell_type": "code",
      "source": [
        "# Split the document into sentences using NLTK sentence tokenizer\n",
        "sentences = nltk.sent_tokenize(corpus)\n",
        "#print(\"Num sentences:\", len(sentences))"
      ],
      "metadata": {
        "id": "-vkUxr2wAYE-"
      },
      "execution_count": 164,
      "outputs": []
    },
    {
      "cell_type": "markdown",
      "source": [
        "Sentence Transformers"
      ],
      "metadata": {
        "id": "McxVP5Bc3frc"
      }
    },
    {
      "cell_type": "code",
      "source": [
        "# Instatiating Sentence Transformers model\n",
        "# Get the path of this mini model here: https://huggingface.co/sentence-transformers/all-MiniLM-L6-v2\n",
        "model = SentenceTransformer(\"sentence-transformers/all-MiniLM-L6-v2\")"
      ],
      "metadata": {
        "id": "AagckAMdwbk9"
      },
      "execution_count": 165,
      "outputs": []
    },
    {
      "cell_type": "code",
      "source": [
        "# Compute the sentence embeddings with Sentence Transformers model\n",
        "embeddings = model.encode(sentences)"
      ],
      "metadata": {
        "id": "mKn2EnzADk7A"
      },
      "execution_count": 166,
      "outputs": []
    },
    {
      "cell_type": "code",
      "source": [
        "# Compute the similarity scores\n",
        "similarity_scores = model.similarity(embeddings, embeddings).numpy()"
      ],
      "metadata": {
        "id": "HNPntKgGDyjh"
      },
      "execution_count": 167,
      "outputs": []
    },
    {
      "cell_type": "markdown",
      "source": [
        "LexRank Similarity Scores"
      ],
      "metadata": {
        "id": "yPBNZviDGkm9"
      }
    },
    {
      "cell_type": "code",
      "source": [
        "# LexRank implementation found here: https://github.com/crabcamp/lexrank/tree/dev\n",
        "logger = logging.getLogger(__name__)\n",
        "\n",
        "\n",
        "# Compute degree centrality scores\n",
        "def degree_centrality_scores(\n",
        "    similarity_matrix,\n",
        "    threshold=None,\n",
        "    increase_power=True,\n",
        "):\n",
        "    if not (threshold is None or isinstance(threshold, float) and 0 <= threshold < 1):\n",
        "        raise ValueError(\n",
        "            \"'threshold' should be a floating-point number \" \"from the interval [0, 1) or None\",\n",
        "        )\n",
        "\n",
        "    if threshold is None:\n",
        "        markov_matrix = create_markov_matrix(similarity_matrix)\n",
        "\n",
        "    else:\n",
        "        markov_matrix = create_markov_matrix_discrete(\n",
        "            similarity_matrix,\n",
        "            threshold,\n",
        "        )\n",
        "\n",
        "    scores = stationary_distribution(\n",
        "        markov_matrix,\n",
        "        increase_power=increase_power,\n",
        "        normalized=False,\n",
        "    )\n",
        "\n",
        "    return scores\n",
        "\n",
        "\n",
        "def _power_method(transition_matrix, increase_power=True, max_iter=10000):\n",
        "    eigenvector = np.ones(len(transition_matrix))\n",
        "\n",
        "    if len(eigenvector) == 1:\n",
        "        return eigenvector\n",
        "\n",
        "    transition = transition_matrix.transpose()\n",
        "\n",
        "    for _ in range(max_iter):\n",
        "        eigenvector_next = np.dot(transition, eigenvector)\n",
        "\n",
        "        if np.allclose(eigenvector_next, eigenvector):\n",
        "            return eigenvector_next\n",
        "\n",
        "        eigenvector = eigenvector_next\n",
        "\n",
        "        if increase_power:\n",
        "            transition = np.dot(transition, transition)\n",
        "\n",
        "    logger.warning(\"Maximum number of iterations for power method exceeded without convergence!\")\n",
        "    return eigenvector_next\n",
        "\n",
        "\n",
        "def connected_nodes(matrix):\n",
        "    _, labels = connected_components(matrix)\n",
        "\n",
        "    groups = []\n",
        "\n",
        "    for tag in np.unique(labels):\n",
        "        group = np.where(labels == tag)[0]\n",
        "        groups.append(group)\n",
        "\n",
        "    return groups\n",
        "\n",
        "\n",
        "def create_markov_matrix(weights_matrix):\n",
        "    n_1, n_2 = weights_matrix.shape\n",
        "    if n_1 != n_2:\n",
        "        raise ValueError(\"'weights_matrix' should be square\")\n",
        "\n",
        "    row_sum = weights_matrix.sum(axis=1, keepdims=True)\n",
        "\n",
        "    # Normalize probability distribution differently if we have negative transition values\n",
        "    if np.min(weights_matrix) <= 0:\n",
        "        return softmax(weights_matrix, axis=1)\n",
        "\n",
        "    return weights_matrix / row_sum\n",
        "\n",
        "\n",
        "def create_markov_matrix_discrete(weights_matrix, threshold):\n",
        "    discrete_weights_matrix = np.zeros(weights_matrix.shape)\n",
        "    ixs = np.where(weights_matrix >= threshold)\n",
        "    discrete_weights_matrix[ixs] = 1\n",
        "\n",
        "    return create_markov_matrix(discrete_weights_matrix)\n",
        "\n",
        "\n",
        "def stationary_distribution(\n",
        "    transition_matrix,\n",
        "    increase_power=True,\n",
        "    normalized=True,\n",
        "):\n",
        "    n_1, n_2 = transition_matrix.shape\n",
        "    if n_1 != n_2:\n",
        "        raise ValueError(\"'transition_matrix' should be square\")\n",
        "\n",
        "    distribution = np.zeros(n_1)\n",
        "\n",
        "    grouped_indices = connected_nodes(transition_matrix)\n",
        "\n",
        "    for group in grouped_indices:\n",
        "        t_matrix = transition_matrix[np.ix_(group, group)]\n",
        "        eigenvector = _power_method(t_matrix, increase_power=increase_power)\n",
        "        distribution[group] = eigenvector\n",
        "\n",
        "    if normalized:\n",
        "        distribution /= n_1\n",
        "\n",
        "    return distribution"
      ],
      "metadata": {
        "id": "i0MmkER-iadA"
      },
      "execution_count": 168,
      "outputs": []
    },
    {
      "cell_type": "code",
      "source": [
        "# Compute the centrality for each sentence using LexRank\n",
        "# Takes similarity scores computed from Sentence Transformers\n",
        "centrality_scores = degree_centrality_scores(similarity_scores, threshold=None)"
      ],
      "metadata": {
        "id": "y5dscbpRFTlP"
      },
      "execution_count": 169,
      "outputs": []
    },
    {
      "cell_type": "code",
      "source": [
        "# Argsort to put sentence with the highest score as first element\n",
        "most_central_sentence_indices = np.argsort(-centrality_scores)\n",
        "\n",
        "\n",
        "# Print sentence with the highest score\n",
        "print(\"\\n\\nSummary:\")\n",
        "for idx in most_central_sentence_indices[0:1]:\n",
        "    print(sentences[idx].strip())"
      ],
      "metadata": {
        "id": "3S1fSD_UaeO7",
        "colab": {
          "base_uri": "https://localhost:8080/"
        },
        "outputId": "c2a43a82-1caf-427f-c4cb-7d4545126363"
      },
      "execution_count": 170,
      "outputs": [
        {
          "output_type": "stream",
          "name": "stdout",
          "text": [
            "\n",
            "\n",
            "Summary:\n",
            "the epsilon ...differences between model free and model based reinforcement ...  jun          ... reinforcement learning (rl) is a type of machine learning where an agent learns to make decisions by performing actions in an environment to ...introduction to machine learning: what is and its applications ...    days ago ... machine learning enables computers to learn from data  identify patterns  and make predictions  driving efficiency and personalization ...\n"
          ]
        }
      ]
    },
    {
      "cell_type": "markdown",
      "source": [
        "The model returns a sentence containing the most significant information related to reinforcement learning."
      ],
      "metadata": {
        "id": "0nDWLP-B8NsM"
      }
    }
  ],
  "metadata": {
    "kernelspec": {
      "display_name": "Python 3",
      "language": "python",
      "name": "python3"
    },
    "language_info": {
      "codemirror_mode": {
        "name": "ipython",
        "version": 3
      },
      "file_extension": ".py",
      "mimetype": "text/x-python",
      "name": "python",
      "nbconvert_exporter": "python",
      "pygments_lexer": "ipython3",
      "version": "3.12.6"
    },
    "colab": {
      "provenance": [],
      "include_colab_link": true
    }
  },
  "nbformat": 4,
  "nbformat_minor": 0
}
