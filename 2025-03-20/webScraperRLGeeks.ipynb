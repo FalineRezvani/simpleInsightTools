{
 "cells": [
  {
   "cell_type": "markdown",
   "metadata": {},
   "source": [
    "## Web Scraping Topic of Choice\n",
    "\n",
    "2025-04-11\n",
    "\n",
    "This notebook navigates to the user's website of choice, locates the search bar, searches a topic, and gathers results.\n",
    "\n",
    "Author: Faline Rezvani"
   ]
  },
  {
   "cell_type": "code",
   "execution_count": null,
   "metadata": {},
   "outputs": [],
   "source": [
    "# Importing libraries\n",
    "from selenium import webdriver # Web testing library\n",
    "from selenium.webdriver.common.keys import Keys\n",
    "from selenium.webdriver.common.by import By\n",
    "from time import sleep # Allow time for webpage to load\n",
    "import pandas as pd\n",
    "import re, string # Regular expressions for text cleaning\n",
    "import csv"
   ]
  },
  {
   "cell_type": "code",
   "execution_count": 19,
   "metadata": {},
   "outputs": [],
   "source": [
    "# Instantiating the browser driver object\n",
    "driver=webdriver.Chrome()\n",
    "\n",
    "# Assigning URL\n",
    "driver.get(\"https://www.geeksforgeeks.org/\")\n",
    "\n",
    "# Finding the search bar\n",
    "# Navigate to the desired element on the webpage, right click > Inspect\n",
    "# Right click selection > Copy XPath > paste between triple quotes\n",
    "search=driver.find_element(By.XPATH,\"\"\"//*[@id=\"comp\"]/div[2]/div[1]/div[3]/input\"\"\")\n",
    "\n",
    "# Clearing the search bar\n",
    "#search.clear()\n",
    "# Assigning keyword to use in search\n",
    "search.send_keys(\"Reinforcement Learning\")\n",
    "\n",
    "# Pressing enter\n",
    "search.send_keys(Keys.ENTER)\n",
    "sleep(5)\n",
    "\n",
    "# Inspect target webpage for section with results\n",
    "# Locating search results\n",
    "articles=driver.find_elements(By.XPATH,\"\"\"//*[@id=\"modal\"]/a\"\"\")\n",
    "sleep(20)"
   ]
  },
  {
   "cell_type": "markdown",
   "metadata": {},
   "source": [
    "First Option: Place Results in CSV File"
   ]
  },
  {
   "cell_type": "code",
   "execution_count": null,
   "metadata": {},
   "outputs": [],
   "source": [
    "# Creating csv file in which to save results\n",
    "filecsv = open('geeksRLDescriptions.csv', 'w', encoding='utf8')\n",
    "csv_columns = ['description']\n",
    "writer = csv.DictWriter(filecsv, fieldnames = csv_columns)\n",
    "writer.writeheader()"
   ]
  },
  {
   "cell_type": "code",
   "execution_count": null,
   "metadata": {},
   "outputs": [],
   "source": [
    "# Placing results in csv file\n",
    "# Helpful resource [here](https://www.zenrows.com/blog/xpath-web-scraping#filter-html-extract-data)\n",
    "for article in articles:\n",
    "    description = article.find_element(By.XPATH, \"\"\".//div[2]\"\"\").text\n",
    "    \n",
    "    writer.writerow({'description':description})\n",
    "\n",
    "# Closing csv file and driver\n",
    "filecsv.close()\n",
    "driver.close()"
   ]
  },
  {
   "cell_type": "markdown",
   "metadata": {},
   "source": [
    "Second Option: Place Results in List of Strings\n",
    "Instantiate Browser Again"
   ]
  },
  {
   "cell_type": "code",
   "execution_count": 17,
   "metadata": {},
   "outputs": [],
   "source": [
    "# Placing results in list of strings\n",
    "# XPath to descriptions //*[@id=\"modal\"]/a[1]/div[2]/div[2]\n",
    "description = []\n",
    "\n",
    "for i in articles:\n",
    "    description.append(i.text)\n",
    "\n",
    "driver.close()"
   ]
  },
  {
   "cell_type": "code",
   "execution_count": 18,
   "metadata": {},
   "outputs": [
    {
     "name": "stdout",
     "output_type": "stream",
     "text": [
      "['Reinforcement Learning\\nReinforcement Learning (RL) is a branch of machine learning that focuses on how agents can learn to make decisions through trial and error to maximize cumulative rewards....', 'Dynamic Programming or DP\\nDynamic Programming is an algorithmic technique with the following properties. It is mainly an optimization over plain recursion. Wherever we see a recursive solution that...', 'Types of Reinforcement Learning\\nReinforcement Learning (RL) is a branch of machine learning that focuses on how agents should act in an environment to maximize cumulative rewards. It is inspired by behav...', 'Reinforcement learning from Human Feedback\\nReinforcement Learning from Human Feedback (RLHF) is a method in machine learning where human input is utilized to enhance the training of an artificial intelligence (AI)...', 'The Role of Reinforcement Learning in Autonomous Systems\\nModern te\\xadch advances allow robots to operate inde\\xadpendently. Reinforce\\xadment learning makes this possible\\xad. Reinforcement le\\xadarning is a type of artificial intelligen...', 'Reinforcement Learning using PyTorch\\nReinforcement learning using PyTorch enables dynamic adjustment of agent strategies, crucial for navigating complex environments and maximizing rewards. The article aims t...', 'Actor-Critic Algorithm in Reinforcement Learning\\nActor-Critic Algorithm is a type of reinforcement learning algorithm that combines aspects of both policy-based methods (Actor) and value-based methods (Critic). This hybr...', 'Q-Learning in Reinforcement Learning\\nQ-learning is a model-free reinforcement learning algorithm used to train agents (computer programs) to make optimal decisions by interacting with an environment. It helps...', 'SARSA (State-Action-Reward-State-Action) in Reinforcement Learning\\nSARSA (State-Action-Reward-State-Action) is an on-policy learning algorithm used for this purpose. It helps an agent learn an optimal policy based on experience, where the...', 'Sparse Rewards in Reinforcement Learning\\nPrerequisite: Understanding Reinforcement Learning in-depth In the previous articles, we learned about reinforcement learning, as well as the general paradigm and the issu...', 'Understanding Reinforcement Learning in-depth\\nThe subject of reinforcement learning has absolutely grown in recent years ever since the astonishing results with old Atari games deep Minds victory with AlphaGo stunning...', 'Reinforcement Learning with TensorFlow Agents\\nReinforcement learning (RL) represents a dynamic and powerful approach within machine learning, focusing on how agents should take actions in an environment to maximize cu...', 'Model-Free Reinforcement Learning\\nModel-free RL refers to methods where an agent directly learns from interactions without constructing a predictive model of the environment. The agent improves its decisio...', 'Function Approximation in Reinforcement Learning\\nFunction approximation is a critical concept in reinforcement learning (RL), enabling algorithms to generalize from limited experience to a broader set of states and actio...', 'Multi-Agent Reinforcement Learning in AI\\nReinforcement learning (RL) can solve complex problems through trial and error, learning from the environment to make optimal decisions. While single-agent reinforcement l...', 'Learning Agents in AI\\nLearning agents are a shining example of scientific advancement in the field of artificial intelligence. This innovative approach to problem-solving puts an end to the sta...', \"How to Make a Reward Function in Reinforcement Learning?\\nOne of the most critical components in RL is the reward function. It drives the agent's learning process by providing feedback on the actions it takes, guiding it toward a...\", 'ML | Reinforcement Learning Algorithm : Python Implementation using Q-learning\\nPrerequisites: Q-Learning technique. Reinforcement Learning is a type of Machine Learning paradigms in which a learning algorithm is trained not on preset data but rather...', 'Hierarchical Reinforcement Learning (HRL) in AI\\nIn the rapidly evolving field of Artificial Intelligence (AI), Reinforcement Learning (RL) has emerged as a powerful tool for solving complex decision-making problems. Tra...', 'How does reward maximization work in reinforcement learning?\\nReinforcement learning (RL) is a subset of machine learning that enables an agent to learn optimal behaviors through interactions with an environment to maximize cumulativ...', 'Epsilon-Greedy Algorithm in Reinforcement Learning\\nIn Reinforcement Learning, the agent or decision-maker learns what to do—how to map situations to actions—so as to maximize a numerical reward signal. The agent is not...', \"Dyna Algorithm in Reinforcement Learning\\nThe Dyna algorithm introduces a hybrid approach that leverages both real-world and simulated experiences, enhancing the agent's learning efficiency. This article delves in...\", \"A Beginner's Guide to Deep Reinforcement Learning\\nDeep Reinforcement Learning (DRL) is the crucial fusion of two powerful artificial intelligence fields: deep neural networks and reinforcement learning. By combining the b...\", 'Introduction to Thompson Sampling | Reinforcement Learning\\nReinforcement Learning is a branch of Machine Learning, also called Online Learning. It is used to decide what action to take at t+1 based on data up to time t. This conce...', 'Genetic Algorithm for Reinforcement Learning : Python implementation\\nMost beginners in Machine Learning start with learning Supervised Learning techniques such as classification and regression. However, one of the most important paradigms i...', 'Multi-armed Bandit Problem in Reinforcement Learning\\nThe Multi-Armed Bandit (MAB) problem is a classic problem in probability theory and decision-making that captures the essence of balancing exploration and exploitation. Th...', 'Markov Decision Process\\nReinforcement Learning:Reinforcement Learning is a type of Machine Learning. It allows machines and software agents to automatically determine the ideal behavior within a...', 'Agents in AI\\nIn artificial intelligence, an agent is a computer program or system that is designed to perceive its environment, make decisions and take actions to achieve a specific go...', \"Model-Based Reinforcement Learning (MBRL) in AI\\nModel-based reinforcement learning is a subclass of reinforcement learning where the agent constructs an internal model of the environment's dynamics and uses it to simula...\", 'REINFORCE Algorithm\\nREINFORCE is a Monte Carlo-based policy gradient algorithm used in Reinforcement Learning (RL) to optimize a policy directly. REINFORCE algorithm falls under the class of...', 'On-policy vs off-policy methods Reinforcement Learning\\nIn the world of Reinforcement Learning (RL), two primary approaches dictate how an agent (like a robot or a software program) learns from its environment: On-policy method...', \"Expected SARSA in Reinforcement Learning\\nPrerequisites: SARSASARSA and Q-Learning technique in Reinforcement Learning are algorithms that uses Temporal Difference(TD) Update to improve the agent's behaviour. Expe...\", 'Neural Logic Reinforcement Learning - An Introduction\\nNeural Logic Reinforcement Learning is an algorithm that combines logic programming with deep reinforcement learning methods. Logic programming can be used to express know...', 'Upper Confidence Bound Algorithm in Reinforcement Learning\\nIn Reinforcement learning, the agent or decision-maker generates its training data by interacting with the world. The agent must learn the consequences of its actions thro...', 'Top 6 NLP Applications of Reinforcement Learning\\nNatural Language Processing (NLP) has become a fundamental aspect of modern AI applications. Reinforcement learning (RL), a branch of machine learning, is gaining traction...', 'Classical Planning in AI\\nClassical planning in AI is a foundational field that traverses the maze of complications across multiple domains. The foundation of everything from robotics to manufactur...', 'Optimizing Production Scheduling with Reinforcement Learning\\nProduction scheduling is a critical aspect of manufacturing operations, involving the allocation of resources to tasks over time to optimize various performance metrics su...', 'Markov Decision Process (MDP) in Reinforcement Learning\\nMarkov Decision Process is a mathematical framework used to describe an environment in decision-making scenarios where outcomes are partly random and partly under the cont...', 'Difference Between Reinforcement Learning and a Neural Network\\nArtificial Intelligence (AI) is a broad field encompassing various techniques and methods to create systems that can perform tasks that usually require human intelligence....', \"Optimal Decision Making in Games\\nHumans' intellectual capacities have been engaged by games for as long as civilization has existed, sometimes to an alarming degree. Games are an intriguing subject for AI...\", 'Deep Q-Learning in Reinforcement Learning\\nQ-Learning is required as a pre-requisite as it is a process of Q-Learning creates an exact matrix for the working agent which it can \"refer to\" to maximize its reward in...', 'Search Algorithms in AI\\nArtificial Intelligence is the study of building agents that act rationally. Most of the time, these agents perform some kind of search algorithm in the background in orde...', 'Reinforcement Learning for Production Scheduling : The SOLO Method\\nProduction scheduling is a critical aspect of manufacturing and operations management, involving the allocation of resources, planning of production activities, and optimi...', 'Sequential Decision Problems in AI\\nSequential decision problems are at the heart of artificial intelligence (AI) and have become a critical area of study due to their vast applications in various domains, s...', 'Top 7 Python Libraries For Reinforcement Learning\\nReinforcement Learning (RL) has gained immense popularity due to its applications in game playing, robotics, and autonomous systems. Python, being the dominant language in...', 'Supervised vs Unsupervised vs Reinforcement Learning\\nMachine learning (ML) is a subset of artificial intelligence (AI). It enables systems to learn from data, identify patterns, and make decisions with minimal human interven...', 'Action Selection in Intelligent Agents\\nIn AI, intelligent agents are systems that perceive their environment and act upon it autonomously to achieve their designed objectives. A crucial component of these agent...', 'Automated Planning in AI\\nAutomated planning is an essential segment of AI. Automated planning is used to create a set of strategies that will bring about certain results from a certain starting po...', 'Optimal Strategy for a Game\\nGiven an array arr[] of size n which represents a row of n coins of values V1 . . . Vn, where n is even. We play a game against an opponent by alternating turns. In each t...', 'Game Playing in Artificial Intelligence\\nGame playing has always been a fascinating domain for artificial intelligence (AI). From the early days of computer science to the current era of advanced deep learning sy...']\n"
     ]
    }
   ],
   "source": [
    "print(description)"
   ]
  },
  {
   "cell_type": "code",
   "execution_count": null,
   "metadata": {},
   "outputs": [],
   "source": [
    "# Read csv file from local location\n",
    "df = pd.read_csv('YourFilePathHere')\n",
    "\n",
    "df.head()"
   ]
  },
  {
   "cell_type": "code",
   "execution_count": 20,
   "metadata": {},
   "outputs": [],
   "source": [
    "# Creating single string out of list of strings\n",
    "description_singlestring = \"\"\"\"\"\".join(description)"
   ]
  },
  {
   "cell_type": "code",
   "execution_count": 22,
   "metadata": {},
   "outputs": [],
   "source": [
    "# Pre-processing with regular expressions\n",
    "description_singlestring = re.sub(r'\\d+', '', description_singlestring)  # Remove all digits from the string"
   ]
  },
  {
   "cell_type": "code",
   "execution_count": 23,
   "metadata": {},
   "outputs": [],
   "source": [
    "description_singlestring = re.sub(r'[^\\w\\s]', '', description_singlestring) # Remove all punctuation from the string"
   ]
  },
  {
   "cell_type": "code",
   "execution_count": 25,
   "metadata": {},
   "outputs": [],
   "source": [
    "# The most basic tokenization\n",
    "description_tokens = description_singlestring.split()"
   ]
  },
  {
   "cell_type": "code",
   "execution_count": 26,
   "metadata": {},
   "outputs": [
    {
     "name": "stdout",
     "output_type": "stream",
     "text": [
      "['Reinforcement', 'Learning', 'Reinforcement', 'Learning', 'RL', 'is', 'a', 'branch', 'of', 'machine', 'learning', 'that', 'focuses', 'on', 'how', 'agents', 'can', 'learn', 'to', 'make', 'decisions', 'through', 'trial', 'and', 'error', 'to', 'maximize', 'cumulative', 'rewardsDynamic', 'Programming', 'or', 'DP', 'Dynamic', 'Programming', 'is', 'an', 'algorithmic', 'technique', 'with', 'the', 'following', 'properties', 'It', 'is', 'mainly', 'an', 'optimization', 'over', 'plain', 'recursion', 'Wherever', 'we', 'see', 'a', 'recursive', 'solution', 'thatTypes', 'of', 'Reinforcement', 'Learning', 'Reinforcement', 'Learning', 'RL', 'is', 'a', 'branch', 'of', 'machine', 'learning', 'that', 'focuses', 'on', 'how', 'agents', 'should', 'act', 'in', 'an', 'environment', 'to', 'maximize', 'cumulative', 'rewards', 'It', 'is', 'inspired', 'by', 'behavReinforcement', 'learning', 'from', 'Human', 'Feedback', 'Reinforcement', 'Learning', 'from', 'Human', 'Feedback', 'RLHF', 'is', 'a', 'method', 'in', 'machine', 'learning', 'where', 'human', 'input', 'is', 'utilized', 'to', 'enhance', 'the', 'training', 'of', 'an', 'artificial', 'intelligence', 'AIThe', 'Role', 'of', 'Reinforcement', 'Learning', 'in', 'Autonomous', 'Systems', 'Modern', 'tech', 'advances', 'allow', 'robots', 'to', 'operate', 'independently', 'Reinforcement', 'learning', 'makes', 'this', 'possible', 'Reinforcement', 'learning', 'is', 'a', 'type', 'of', 'artificial', 'intelligenReinforcement', 'Learning', 'using', 'PyTorch', 'Reinforcement', 'learning', 'using', 'PyTorch', 'enables', 'dynamic', 'adjustment', 'of', 'agent', 'strategies', 'crucial', 'for', 'navigating', 'complex', 'environments', 'and', 'maximizing', 'rewards', 'The', 'article', 'aims', 'tActorCritic', 'Algorithm', 'in', 'Reinforcement', 'Learning', 'ActorCritic', 'Algorithm', 'is', 'a', 'type', 'of', 'reinforcement', 'learning', 'algorithm', 'that', 'combines', 'aspects', 'of', 'both', 'policybased', 'methods', 'Actor', 'and', 'valuebased', 'methods', 'Critic', 'This', 'hybrQLearning', 'in', 'Reinforcement', 'Learning', 'Qlearning', 'is', 'a', 'modelfree', 'reinforcement', 'learning', 'algorithm', 'used', 'to', 'train', 'agents', 'computer', 'programs', 'to', 'make', 'optimal', 'decisions', 'by', 'interacting', 'with', 'an', 'environment', 'It', 'helpsSARSA', 'StateActionRewardStateAction', 'in', 'Reinforcement', 'Learning', 'SARSA', 'StateActionRewardStateAction', 'is', 'an', 'onpolicy', 'learning', 'algorithm', 'used', 'for', 'this', 'purpose', 'It', 'helps', 'an', 'agent', 'learn', 'an', 'optimal', 'policy', 'based', 'on', 'experience', 'where', 'theSparse', 'Rewards', 'in', 'Reinforcement', 'Learning', 'Prerequisite', 'Understanding', 'Reinforcement', 'Learning', 'indepth', 'In', 'the', 'previous', 'articles', 'we', 'learned', 'about', 'reinforcement', 'learning', 'as', 'well', 'as', 'the', 'general', 'paradigm', 'and', 'the', 'issuUnderstanding', 'Reinforcement', 'Learning', 'indepth', 'The', 'subject', 'of', 'reinforcement', 'learning', 'has', 'absolutely', 'grown', 'in', 'recent', 'years', 'ever', 'since', 'the', 'astonishing', 'results', 'with', 'old', 'Atari', 'games', 'deep', 'Minds', 'victory', 'with', 'AlphaGo', 'stunningReinforcement', 'Learning', 'with', 'TensorFlow', 'Agents', 'Reinforcement', 'learning', 'RL', 'represents', 'a', 'dynamic', 'and', 'powerful', 'approach', 'within', 'machine', 'learning', 'focusing', 'on', 'how', 'agents', 'should', 'take', 'actions', 'in', 'an', 'environment', 'to', 'maximize', 'cuModelFree', 'Reinforcement', 'Learning', 'Modelfree', 'RL', 'refers', 'to', 'methods', 'where', 'an', 'agent', 'directly', 'learns', 'from', 'interactions', 'without', 'constructing', 'a', 'predictive', 'model', 'of', 'the', 'environment', 'The', 'agent', 'improves', 'its', 'decisioFunction', 'Approximation', 'in', 'Reinforcement', 'Learning', 'Function', 'approximation', 'is', 'a', 'critical', 'concept', 'in', 'reinforcement', 'learning', 'RL', 'enabling', 'algorithms', 'to', 'generalize', 'from', 'limited', 'experience', 'to', 'a', 'broader', 'set', 'of', 'states', 'and', 'actioMultiAgent', 'Reinforcement', 'Learning', 'in', 'AI', 'Reinforcement', 'learning', 'RL', 'can', 'solve', 'complex', 'problems', 'through', 'trial', 'and', 'error', 'learning', 'from', 'the', 'environment', 'to', 'make', 'optimal', 'decisions', 'While', 'singleagent', 'reinforcement', 'lLearning', 'Agents', 'in', 'AI', 'Learning', 'agents', 'are', 'a', 'shining', 'example', 'of', 'scientific', 'advancement', 'in', 'the', 'field', 'of', 'artificial', 'intelligence', 'This', 'innovative', 'approach', 'to', 'problemsolving', 'puts', 'an', 'end', 'to', 'the', 'staHow', 'to', 'Make', 'a', 'Reward', 'Function', 'in', 'Reinforcement', 'Learning', 'One', 'of', 'the', 'most', 'critical', 'components', 'in', 'RL', 'is', 'the', 'reward', 'function', 'It', 'drives', 'the', 'agents', 'learning', 'process', 'by', 'providing', 'feedback', 'on', 'the', 'actions', 'it', 'takes', 'guiding', 'it', 'toward', 'aML', 'Reinforcement', 'Learning', 'Algorithm', 'Python', 'Implementation', 'using', 'Qlearning', 'Prerequisites', 'QLearning', 'technique', 'Reinforcement', 'Learning', 'is', 'a', 'type', 'of', 'Machine', 'Learning', 'paradigms', 'in', 'which', 'a', 'learning', 'algorithm', 'is', 'trained', 'not', 'on', 'preset', 'data', 'but', 'ratherHierarchical', 'Reinforcement', 'Learning', 'HRL', 'in', 'AI', 'In', 'the', 'rapidly', 'evolving', 'field', 'of', 'Artificial', 'Intelligence', 'AI', 'Reinforcement', 'Learning', 'RL', 'has', 'emerged', 'as', 'a', 'powerful', 'tool', 'for', 'solving', 'complex', 'decisionmaking', 'problems', 'TraHow', 'does', 'reward', 'maximization', 'work', 'in', 'reinforcement', 'learning', 'Reinforcement', 'learning', 'RL', 'is', 'a', 'subset', 'of', 'machine', 'learning', 'that', 'enables', 'an', 'agent', 'to', 'learn', 'optimal', 'behaviors', 'through', 'interactions', 'with', 'an', 'environment', 'to', 'maximize', 'cumulativEpsilonGreedy', 'Algorithm', 'in', 'Reinforcement', 'Learning', 'In', 'Reinforcement', 'Learning', 'the', 'agent', 'or', 'decisionmaker', 'learns', 'what', 'to', 'dohow', 'to', 'map', 'situations', 'to', 'actionsso', 'as', 'to', 'maximize', 'a', 'numerical', 'reward', 'signal', 'The', 'agent', 'is', 'notDyna', 'Algorithm', 'in', 'Reinforcement', 'Learning', 'The', 'Dyna', 'algorithm', 'introduces', 'a', 'hybrid', 'approach', 'that', 'leverages', 'both', 'realworld', 'and', 'simulated', 'experiences', 'enhancing', 'the', 'agents', 'learning', 'efficiency', 'This', 'article', 'delves', 'inA', 'Beginners', 'Guide', 'to', 'Deep', 'Reinforcement', 'Learning', 'Deep', 'Reinforcement', 'Learning', 'DRL', 'is', 'the', 'crucial', 'fusion', 'of', 'two', 'powerful', 'artificial', 'intelligence', 'fields', 'deep', 'neural', 'networks', 'and', 'reinforcement', 'learning', 'By', 'combining', 'the', 'bIntroduction', 'to', 'Thompson', 'Sampling', 'Reinforcement', 'Learning', 'Reinforcement', 'Learning', 'is', 'a', 'branch', 'of', 'Machine', 'Learning', 'also', 'called', 'Online', 'Learning', 'It', 'is', 'used', 'to', 'decide', 'what', 'action', 'to', 'take', 'at', 't', 'based', 'on', 'data', 'up', 'to', 'time', 't', 'This', 'conceGenetic', 'Algorithm', 'for', 'Reinforcement', 'Learning', 'Python', 'implementation', 'Most', 'beginners', 'in', 'Machine', 'Learning', 'start', 'with', 'learning', 'Supervised', 'Learning', 'techniques', 'such', 'as', 'classification', 'and', 'regression', 'However', 'one', 'of', 'the', 'most', 'important', 'paradigms', 'iMultiarmed', 'Bandit', 'Problem', 'in', 'Reinforcement', 'Learning', 'The', 'MultiArmed', 'Bandit', 'MAB', 'problem', 'is', 'a', 'classic', 'problem', 'in', 'probability', 'theory', 'and', 'decisionmaking', 'that', 'captures', 'the', 'essence', 'of', 'balancing', 'exploration', 'and', 'exploitation', 'ThMarkov', 'Decision', 'Process', 'Reinforcement', 'LearningReinforcement', 'Learning', 'is', 'a', 'type', 'of', 'Machine', 'Learning', 'It', 'allows', 'machines', 'and', 'software', 'agents', 'to', 'automatically', 'determine', 'the', 'ideal', 'behavior', 'within', 'aAgents', 'in', 'AI', 'In', 'artificial', 'intelligence', 'an', 'agent', 'is', 'a', 'computer', 'program', 'or', 'system', 'that', 'is', 'designed', 'to', 'perceive', 'its', 'environment', 'make', 'decisions', 'and', 'take', 'actions', 'to', 'achieve', 'a', 'specific', 'goModelBased', 'Reinforcement', 'Learning', 'MBRL', 'in', 'AI', 'Modelbased', 'reinforcement', 'learning', 'is', 'a', 'subclass', 'of', 'reinforcement', 'learning', 'where', 'the', 'agent', 'constructs', 'an', 'internal', 'model', 'of', 'the', 'environments', 'dynamics', 'and', 'uses', 'it', 'to', 'simulaREINFORCE', 'Algorithm', 'REINFORCE', 'is', 'a', 'Monte', 'Carlobased', 'policy', 'gradient', 'algorithm', 'used', 'in', 'Reinforcement', 'Learning', 'RL', 'to', 'optimize', 'a', 'policy', 'directly', 'REINFORCE', 'algorithm', 'falls', 'under', 'the', 'class', 'ofOnpolicy', 'vs', 'offpolicy', 'methods', 'Reinforcement', 'Learning', 'In', 'the', 'world', 'of', 'Reinforcement', 'Learning', 'RL', 'two', 'primary', 'approaches', 'dictate', 'how', 'an', 'agent', 'like', 'a', 'robot', 'or', 'a', 'software', 'program', 'learns', 'from', 'its', 'environment', 'Onpolicy', 'methodExpected', 'SARSA', 'in', 'Reinforcement', 'Learning', 'Prerequisites', 'SARSASARSA', 'and', 'QLearning', 'technique', 'in', 'Reinforcement', 'Learning', 'are', 'algorithms', 'that', 'uses', 'Temporal', 'DifferenceTD', 'Update', 'to', 'improve', 'the', 'agents', 'behaviour', 'ExpeNeural', 'Logic', 'Reinforcement', 'Learning', 'An', 'Introduction', 'Neural', 'Logic', 'Reinforcement', 'Learning', 'is', 'an', 'algorithm', 'that', 'combines', 'logic', 'programming', 'with', 'deep', 'reinforcement', 'learning', 'methods', 'Logic', 'programming', 'can', 'be', 'used', 'to', 'express', 'knowUpper', 'Confidence', 'Bound', 'Algorithm', 'in', 'Reinforcement', 'Learning', 'In', 'Reinforcement', 'learning', 'the', 'agent', 'or', 'decisionmaker', 'generates', 'its', 'training', 'data', 'by', 'interacting', 'with', 'the', 'world', 'The', 'agent', 'must', 'learn', 'the', 'consequences', 'of', 'its', 'actions', 'throTop', 'NLP', 'Applications', 'of', 'Reinforcement', 'Learning', 'Natural', 'Language', 'Processing', 'NLP', 'has', 'become', 'a', 'fundamental', 'aspect', 'of', 'modern', 'AI', 'applications', 'Reinforcement', 'learning', 'RL', 'a', 'branch', 'of', 'machine', 'learning', 'is', 'gaining', 'tractionClassical', 'Planning', 'in', 'AI', 'Classical', 'planning', 'in', 'AI', 'is', 'a', 'foundational', 'field', 'that', 'traverses', 'the', 'maze', 'of', 'complications', 'across', 'multiple', 'domains', 'The', 'foundation', 'of', 'everything', 'from', 'robotics', 'to', 'manufacturOptimizing', 'Production', 'Scheduling', 'with', 'Reinforcement', 'Learning', 'Production', 'scheduling', 'is', 'a', 'critical', 'aspect', 'of', 'manufacturing', 'operations', 'involving', 'the', 'allocation', 'of', 'resources', 'to', 'tasks', 'over', 'time', 'to', 'optimize', 'various', 'performance', 'metrics', 'suMarkov', 'Decision', 'Process', 'MDP', 'in', 'Reinforcement', 'Learning', 'Markov', 'Decision', 'Process', 'is', 'a', 'mathematical', 'framework', 'used', 'to', 'describe', 'an', 'environment', 'in', 'decisionmaking', 'scenarios', 'where', 'outcomes', 'are', 'partly', 'random', 'and', 'partly', 'under', 'the', 'contDifference', 'Between', 'Reinforcement', 'Learning', 'and', 'a', 'Neural', 'Network', 'Artificial', 'Intelligence', 'AI', 'is', 'a', 'broad', 'field', 'encompassing', 'various', 'techniques', 'and', 'methods', 'to', 'create', 'systems', 'that', 'can', 'perform', 'tasks', 'that', 'usually', 'require', 'human', 'intelligenceOptimal', 'Decision', 'Making', 'in', 'Games', 'Humans', 'intellectual', 'capacities', 'have', 'been', 'engaged', 'by', 'games', 'for', 'as', 'long', 'as', 'civilization', 'has', 'existed', 'sometimes', 'to', 'an', 'alarming', 'degree', 'Games', 'are', 'an', 'intriguing', 'subject', 'for', 'AIDeep', 'QLearning', 'in', 'Reinforcement', 'Learning', 'QLearning', 'is', 'required', 'as', 'a', 'prerequisite', 'as', 'it', 'is', 'a', 'process', 'of', 'QLearning', 'creates', 'an', 'exact', 'matrix', 'for', 'the', 'working', 'agent', 'which', 'it', 'can', 'refer', 'to', 'to', 'maximize', 'its', 'reward', 'inSearch', 'Algorithms', 'in', 'AI', 'Artificial', 'Intelligence', 'is', 'the', 'study', 'of', 'building', 'agents', 'that', 'act', 'rationally', 'Most', 'of', 'the', 'time', 'these', 'agents', 'perform', 'some', 'kind', 'of', 'search', 'algorithm', 'in', 'the', 'background', 'in', 'ordeReinforcement', 'Learning', 'for', 'Production', 'Scheduling', 'The', 'SOLO', 'Method', 'Production', 'scheduling', 'is', 'a', 'critical', 'aspect', 'of', 'manufacturing', 'and', 'operations', 'management', 'involving', 'the', 'allocation', 'of', 'resources', 'planning', 'of', 'production', 'activities', 'and', 'optimiSequential', 'Decision', 'Problems', 'in', 'AI', 'Sequential', 'decision', 'problems', 'are', 'at', 'the', 'heart', 'of', 'artificial', 'intelligence', 'AI', 'and', 'have', 'become', 'a', 'critical', 'area', 'of', 'study', 'due', 'to', 'their', 'vast', 'applications', 'in', 'various', 'domains', 'sTop', 'Python', 'Libraries', 'For', 'Reinforcement', 'Learning', 'Reinforcement', 'Learning', 'RL', 'has', 'gained', 'immense', 'popularity', 'due', 'to', 'its', 'applications', 'in', 'game', 'playing', 'robotics', 'and', 'autonomous', 'systems', 'Python', 'being', 'the', 'dominant', 'language', 'inSupervised', 'vs', 'Unsupervised', 'vs', 'Reinforcement', 'Learning', 'Machine', 'learning', 'ML', 'is', 'a', 'subset', 'of', 'artificial', 'intelligence', 'AI', 'It', 'enables', 'systems', 'to', 'learn', 'from', 'data', 'identify', 'patterns', 'and', 'make', 'decisions', 'with', 'minimal', 'human', 'intervenAction', 'Selection', 'in', 'Intelligent', 'Agents', 'In', 'AI', 'intelligent', 'agents', 'are', 'systems', 'that', 'perceive', 'their', 'environment', 'and', 'act', 'upon', 'it', 'autonomously', 'to', 'achieve', 'their', 'designed', 'objectives', 'A', 'crucial', 'component', 'of', 'these', 'agentAutomated', 'Planning', 'in', 'AI', 'Automated', 'planning', 'is', 'an', 'essential', 'segment', 'of', 'AI', 'Automated', 'planning', 'is', 'used', 'to', 'create', 'a', 'set', 'of', 'strategies', 'that', 'will', 'bring', 'about', 'certain', 'results', 'from', 'a', 'certain', 'starting', 'poOptimal', 'Strategy', 'for', 'a', 'Game', 'Given', 'an', 'array', 'arr', 'of', 'size', 'n', 'which', 'represents', 'a', 'row', 'of', 'n', 'coins', 'of', 'values', 'V', 'Vn', 'where', 'n', 'is', 'even', 'We', 'play', 'a', 'game', 'against', 'an', 'opponent', 'by', 'alternating', 'turns', 'In', 'each', 'tGame', 'Playing', 'in', 'Artificial', 'Intelligence', 'Game', 'playing', 'has', 'always', 'been', 'a', 'fascinating', 'domain', 'for', 'artificial', 'intelligence', 'AI', 'From', 'the', 'early', 'days', 'of', 'computer', 'science', 'to', 'the', 'current', 'era', 'of', 'advanced', 'deep', 'learning', 'sy']\n"
     ]
    }
   ],
   "source": [
    "print(description_tokens)"
   ]
  }
 ],
 "metadata": {
  "kernelspec": {
   "display_name": "Python 3",
   "language": "python",
   "name": "python3"
  },
  "language_info": {
   "codemirror_mode": {
    "name": "ipython",
    "version": 3
   },
   "file_extension": ".py",
   "mimetype": "text/x-python",
   "name": "python",
   "nbconvert_exporter": "python",
   "pygments_lexer": "ipython3",
   "version": "3.12.6"
  }
 },
 "nbformat": 4,
 "nbformat_minor": 2
}
